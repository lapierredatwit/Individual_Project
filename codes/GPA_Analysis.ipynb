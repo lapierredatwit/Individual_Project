{
 "cells": [
  {
   "cell_type": "markdown",
   "metadata": {},
   "source": [
    "# Introduction: Importing and Cleaning the data"
   ]
  },
  {
   "cell_type": "code",
   "execution_count": 33,
   "metadata": {},
   "outputs": [],
   "source": [
    "import pandas as pd\n",
    "import numpy as np\n",
    "import matplotlib.pyplot as plt\n",
    "import seaborn as sns"
   ]
  },
  {
   "cell_type": "code",
   "execution_count": 34,
   "metadata": {},
   "outputs": [
    {
     "data": {
      "text/html": [
       "<div>\n",
       "<style scoped>\n",
       "    .dataframe tbody tr th:only-of-type {\n",
       "        vertical-align: middle;\n",
       "    }\n",
       "\n",
       "    .dataframe tbody tr th {\n",
       "        vertical-align: top;\n",
       "    }\n",
       "\n",
       "    .dataframe thead th {\n",
       "        text-align: right;\n",
       "    }\n",
       "</style>\n",
       "<table border=\"1\" class=\"dataframe\">\n",
       "  <thead>\n",
       "    <tr style=\"text-align: right;\">\n",
       "      <th></th>\n",
       "      <th>Study Hours per Week</th>\n",
       "      <th>Attendance Rate</th>\n",
       "      <th>Major</th>\n",
       "      <th>High School GPA</th>\n",
       "      <th>Extracurricular Activities</th>\n",
       "      <th>Part-Time Job</th>\n",
       "      <th>Library Usage per Week</th>\n",
       "      <th>Online Coursework Engagement</th>\n",
       "      <th>Sleep Hours per Night</th>\n",
       "      <th>College GPA</th>\n",
       "    </tr>\n",
       "  </thead>\n",
       "  <tbody>\n",
       "    <tr>\n",
       "      <th>0</th>\n",
       "      <td>21.95</td>\n",
       "      <td>79.64</td>\n",
       "      <td>Business</td>\n",
       "      <td>2.83</td>\n",
       "      <td>4</td>\n",
       "      <td>No</td>\n",
       "      <td>16.87</td>\n",
       "      <td>11.22</td>\n",
       "      <td>5.64</td>\n",
       "      <td>2.80</td>\n",
       "    </tr>\n",
       "    <tr>\n",
       "      <th>1</th>\n",
       "      <td>28.61</td>\n",
       "      <td>50.50</td>\n",
       "      <td>Business</td>\n",
       "      <td>3.26</td>\n",
       "      <td>1</td>\n",
       "      <td>No</td>\n",
       "      <td>6.53</td>\n",
       "      <td>7.79</td>\n",
       "      <td>5.78</td>\n",
       "      <td>2.55</td>\n",
       "    </tr>\n",
       "    <tr>\n",
       "      <th>2</th>\n",
       "      <td>24.11</td>\n",
       "      <td>73.79</td>\n",
       "      <td>NaN</td>\n",
       "      <td>3.56</td>\n",
       "      <td>3</td>\n",
       "      <td>No</td>\n",
       "      <td>17.04</td>\n",
       "      <td>8.09</td>\n",
       "      <td>7.10</td>\n",
       "      <td>2.77</td>\n",
       "    </tr>\n",
       "    <tr>\n",
       "      <th>3</th>\n",
       "      <td>21.80</td>\n",
       "      <td>85.44</td>\n",
       "      <td>Business</td>\n",
       "      <td>3.70</td>\n",
       "      <td>4</td>\n",
       "      <td>Yes</td>\n",
       "      <td>17.77</td>\n",
       "      <td>14.27</td>\n",
       "      <td>9.97</td>\n",
       "      <td>3.28</td>\n",
       "    </tr>\n",
       "    <tr>\n",
       "      <th>4</th>\n",
       "      <td>16.95</td>\n",
       "      <td>52.20</td>\n",
       "      <td>Arts</td>\n",
       "      <td>3.63</td>\n",
       "      <td>4</td>\n",
       "      <td>No</td>\n",
       "      <td>5.33</td>\n",
       "      <td>11.08</td>\n",
       "      <td>6.94</td>\n",
       "      <td>2.59</td>\n",
       "    </tr>\n",
       "  </tbody>\n",
       "</table>\n",
       "</div>"
      ],
      "text/plain": [
       "   Study Hours per Week  Attendance Rate     Major  High School GPA  \\\n",
       "0                 21.95            79.64  Business             2.83   \n",
       "1                 28.61            50.50  Business             3.26   \n",
       "2                 24.11            73.79       NaN             3.56   \n",
       "3                 21.80            85.44  Business             3.70   \n",
       "4                 16.95            52.20      Arts             3.63   \n",
       "\n",
       "   Extracurricular Activities Part-Time Job  Library Usage per Week  \\\n",
       "0                           4            No                   16.87   \n",
       "1                           1            No                    6.53   \n",
       "2                           3            No                   17.04   \n",
       "3                           4           Yes                   17.77   \n",
       "4                           4            No                    5.33   \n",
       "\n",
       "   Online Coursework Engagement  Sleep Hours per Night  College GPA  \n",
       "0                         11.22                   5.64         2.80  \n",
       "1                          7.79                   5.78         2.55  \n",
       "2                          8.09                   7.10         2.77  \n",
       "3                         14.27                   9.97         3.28  \n",
       "4                         11.08                   6.94         2.59  "
      ]
     },
     "execution_count": 34,
     "metadata": {},
     "output_type": "execute_result"
    }
   ],
   "source": [
    "file_name = \"College GPA Data.csv\"\n",
    "df = pd.read_csv(file_name)\n",
    "df.head()"
   ]
  },
  {
   "cell_type": "code",
   "execution_count": 35,
   "metadata": {},
   "outputs": [
    {
     "name": "stdout",
     "output_type": "stream",
     "text": [
      "<class 'pandas.core.frame.DataFrame'>\n",
      "RangeIndex: 2000 entries, 0 to 1999\n",
      "Data columns (total 10 columns):\n",
      "Study Hours per Week            2000 non-null float64\n",
      "Attendance Rate                 1803 non-null float64\n",
      "Major                           1941 non-null object\n",
      "High School GPA                 2000 non-null float64\n",
      "Extracurricular Activities      2000 non-null int64\n",
      "Part-Time Job                   2000 non-null object\n",
      "Library Usage per Week          2000 non-null float64\n",
      "Online Coursework Engagement    1978 non-null float64\n",
      "Sleep Hours per Night           1841 non-null float64\n",
      "College GPA                     2000 non-null float64\n",
      "dtypes: float64(7), int64(1), object(2)\n",
      "memory usage: 156.3+ KB\n"
     ]
    }
   ],
   "source": [
    "df.info()"
   ]
  },
  {
   "cell_type": "code",
   "execution_count": 36,
   "metadata": {},
   "outputs": [],
   "source": [
    "df.fillna({'Major' : 'Undeclared'}, inplace = True)"
   ]
  },
  {
   "cell_type": "code",
   "execution_count": 37,
   "metadata": {},
   "outputs": [
    {
     "data": {
      "text/plain": [
       "Study Hours per Week              0\n",
       "Attendance Rate                 197\n",
       "Major                             0\n",
       "High School GPA                   0\n",
       "Extracurricular Activities        0\n",
       "Part-Time Job                     0\n",
       "Library Usage per Week            0\n",
       "Online Coursework Engagement     22\n",
       "Sleep Hours per Night           159\n",
       "College GPA                       0\n",
       "dtype: int64"
      ]
     },
     "execution_count": 37,
     "metadata": {},
     "output_type": "execute_result"
    }
   ],
   "source": [
    "df.isnull().sum()"
   ]
  },
  {
   "cell_type": "code",
   "execution_count": 38,
   "metadata": {},
   "outputs": [],
   "source": [
    "df.dropna(inplace = True)"
   ]
  },
  {
   "cell_type": "code",
   "execution_count": 39,
   "metadata": {},
   "outputs": [],
   "source": [
    "df.drop_duplicates(inplace = True)"
   ]
  },
  {
   "cell_type": "code",
   "execution_count": 40,
   "metadata": {},
   "outputs": [
    {
     "name": "stdout",
     "output_type": "stream",
     "text": [
      "<class 'pandas.core.frame.DataFrame'>\n",
      "Int64Index: 1473 entries, 0 to 1799\n",
      "Data columns (total 10 columns):\n",
      "Study Hours per Week            1473 non-null float64\n",
      "Attendance Rate                 1473 non-null float64\n",
      "Major                           1473 non-null object\n",
      "High School GPA                 1473 non-null float64\n",
      "Extracurricular Activities      1473 non-null int64\n",
      "Part-Time Job                   1473 non-null object\n",
      "Library Usage per Week          1473 non-null float64\n",
      "Online Coursework Engagement    1473 non-null float64\n",
      "Sleep Hours per Night           1473 non-null float64\n",
      "College GPA                     1473 non-null float64\n",
      "dtypes: float64(7), int64(1), object(2)\n",
      "memory usage: 126.6+ KB\n"
     ]
    }
   ],
   "source": [
    "df.info()"
   ]
  },
  {
   "cell_type": "code",
   "execution_count": 41,
   "metadata": {
    "scrolled": true
   },
   "outputs": [
    {
     "data": {
      "text/html": [
       "<div>\n",
       "<style scoped>\n",
       "    .dataframe tbody tr th:only-of-type {\n",
       "        vertical-align: middle;\n",
       "    }\n",
       "\n",
       "    .dataframe tbody tr th {\n",
       "        vertical-align: top;\n",
       "    }\n",
       "\n",
       "    .dataframe thead th {\n",
       "        text-align: right;\n",
       "    }\n",
       "</style>\n",
       "<table border=\"1\" class=\"dataframe\">\n",
       "  <thead>\n",
       "    <tr style=\"text-align: right;\">\n",
       "      <th></th>\n",
       "      <th>Study Hours per Week</th>\n",
       "      <th>Attendance Rate</th>\n",
       "      <th>Major</th>\n",
       "      <th>High School GPA</th>\n",
       "      <th>Extracurricular Activities</th>\n",
       "      <th>Part-Time Job</th>\n",
       "      <th>Library Usage per Week</th>\n",
       "      <th>Online Coursework Engagement</th>\n",
       "      <th>Sleep Hours per Night</th>\n",
       "      <th>College GPA</th>\n",
       "    </tr>\n",
       "  </thead>\n",
       "  <tbody>\n",
       "    <tr>\n",
       "      <th>0</th>\n",
       "      <td>21.95</td>\n",
       "      <td>79.64</td>\n",
       "      <td>Business</td>\n",
       "      <td>2.83</td>\n",
       "      <td>4</td>\n",
       "      <td>No</td>\n",
       "      <td>16.87</td>\n",
       "      <td>11.22</td>\n",
       "      <td>5.64</td>\n",
       "      <td>2.80</td>\n",
       "    </tr>\n",
       "    <tr>\n",
       "      <th>1</th>\n",
       "      <td>28.61</td>\n",
       "      <td>50.50</td>\n",
       "      <td>Business</td>\n",
       "      <td>3.26</td>\n",
       "      <td>1</td>\n",
       "      <td>No</td>\n",
       "      <td>6.53</td>\n",
       "      <td>7.79</td>\n",
       "      <td>5.78</td>\n",
       "      <td>2.55</td>\n",
       "    </tr>\n",
       "    <tr>\n",
       "      <th>2</th>\n",
       "      <td>24.11</td>\n",
       "      <td>73.79</td>\n",
       "      <td>Undeclared</td>\n",
       "      <td>3.56</td>\n",
       "      <td>3</td>\n",
       "      <td>No</td>\n",
       "      <td>17.04</td>\n",
       "      <td>8.09</td>\n",
       "      <td>7.10</td>\n",
       "      <td>2.77</td>\n",
       "    </tr>\n",
       "    <tr>\n",
       "      <th>3</th>\n",
       "      <td>21.80</td>\n",
       "      <td>85.44</td>\n",
       "      <td>Business</td>\n",
       "      <td>3.70</td>\n",
       "      <td>4</td>\n",
       "      <td>Yes</td>\n",
       "      <td>17.77</td>\n",
       "      <td>14.27</td>\n",
       "      <td>9.97</td>\n",
       "      <td>3.28</td>\n",
       "    </tr>\n",
       "    <tr>\n",
       "      <th>4</th>\n",
       "      <td>16.95</td>\n",
       "      <td>52.20</td>\n",
       "      <td>Arts</td>\n",
       "      <td>3.63</td>\n",
       "      <td>4</td>\n",
       "      <td>No</td>\n",
       "      <td>5.33</td>\n",
       "      <td>11.08</td>\n",
       "      <td>6.94</td>\n",
       "      <td>2.59</td>\n",
       "    </tr>\n",
       "  </tbody>\n",
       "</table>\n",
       "</div>"
      ],
      "text/plain": [
       "   Study Hours per Week  Attendance Rate       Major  High School GPA  \\\n",
       "0                 21.95            79.64    Business             2.83   \n",
       "1                 28.61            50.50    Business             3.26   \n",
       "2                 24.11            73.79  Undeclared             3.56   \n",
       "3                 21.80            85.44    Business             3.70   \n",
       "4                 16.95            52.20        Arts             3.63   \n",
       "\n",
       "   Extracurricular Activities Part-Time Job  Library Usage per Week  \\\n",
       "0                           4            No                   16.87   \n",
       "1                           1            No                    6.53   \n",
       "2                           3            No                   17.04   \n",
       "3                           4           Yes                   17.77   \n",
       "4                           4            No                    5.33   \n",
       "\n",
       "   Online Coursework Engagement  Sleep Hours per Night  College GPA  \n",
       "0                         11.22                   5.64         2.80  \n",
       "1                          7.79                   5.78         2.55  \n",
       "2                          8.09                   7.10         2.77  \n",
       "3                         14.27                   9.97         3.28  \n",
       "4                         11.08                   6.94         2.59  "
      ]
     },
     "execution_count": 41,
     "metadata": {},
     "output_type": "execute_result"
    }
   ],
   "source": [
    "df.head()"
   ]
  },
  {
   "cell_type": "markdown",
   "metadata": {},
   "source": [
    "# Question 1: How well does high school GPA help in determining college GPA? Is there a correlation between the two?"
   ]
  },
  {
   "cell_type": "code",
   "execution_count": 44,
   "metadata": {},
   "outputs": [
    {
     "data": {
      "image/png": "[encoded data removed]",
      "text/plain": [
       "<Figure size 576x432 with 1 Axes>"
      ]
     },
     "metadata": {
      "needs_background": "light"
     },
     "output_type": "display_data"
    },
    {
     "data": {
      "text/plain": [
       "<Figure size 432x288 with 0 Axes>"
      ]
     },
     "metadata": {},
     "output_type": "display_data"
    }
   ],
   "source": [
    "college_GPA = df['College GPA']\n",
    "hs_GPA = df['High School GPA']\n",
    "\n",
    "plt.figure(figsize=(8, 6))\n",
    "sns.regplot(x=hs_GPA, y=college_GPA, scatter_kws={'s': 50}, line_kws={'color': 'red'})\n",
    "plt.title('Comparison of High School GPA to College GPA with Best Fit Line')\n",
    "plt.xlabel('High School GPA')\n",
    "plt.ylabel('College GPA')\n",
    "plt.grid(True)\n",
    "plt.show()\n",
    "plt.savefig(\"GPA_Correlation.png\")"
   ]
  },
  {
   "cell_type": "markdown",
   "metadata": {},
   "source": [
    "The scatterplot comparing high school GPA (x-axis) to college GPA (y-axis) shows a loosely linear relationship between the two variables. While the picture may look like a totally random scatter, if you follow the line of best fit you can see that the shape of the scattered data actually follows that gradually increasing trend across the entire graph, showing at least a minimal relationship present."
   ]
  },
  {
   "cell_type": "code",
   "execution_count": 45,
   "metadata": {},
   "outputs": [
    {
     "name": "stdout",
     "output_type": "stream",
     "text": [
      "Pearson Correlation Coefficient: 0.29580527703314324\n",
      "P-value: 3.9358931914986965e-31\n",
      "Reject the null hypothesis: There is a significant correlation between high school GPA and college GPA.\n"
     ]
    }
   ],
   "source": [
    "import scipy.stats as stats\n",
    "correlation, p_value = stats.pearsonr(hs_GPA, college_GPA)\n",
    "print(f\"Pearson Correlation Coefficient: {correlation}\")\n",
    "print(f\"P-value: {p_value}\")\n",
    "alpha = 0.05\n",
    "if p_value < alpha:\n",
    "    print(\"Reject the null hypothesis: There is a significant correlation between high school GPA and college GPA.\")\n",
    "else:\n",
    "    print(\"Fail to reject the null hypothesis: There is no significant correlation between high school GPA and college GPA.\")"
   ]
  },
  {
   "cell_type": "markdown",
   "metadata": {},
   "source": [
    "So the Pearson Correlation Coefficient of 0.29 shows that there is a correlation on the higher end of the data, meaning that somewhat higher high school GPA's than the mean correlate to somewhat higher colleg GPA's than the mean. Additionally, the p-value of basically 0 confirms that the correlation shown from the Pearson Correlation Coefficient is a significant correlation."
   ]
  },
  {
   "cell_type": "markdown",
   "metadata": {},
   "source": [
    "# Question 2: Does having a part-time job in college contribute positively or negatively to GPA?\n"
   ]
  },
  {
   "cell_type": "code",
   "execution_count": 46,
   "metadata": {},
   "outputs": [
    {
     "name": "stdout",
     "output_type": "stream",
     "text": [
      "-0.03390128604904329\n",
      "2.5181530343007914\n"
     ]
    }
   ],
   "source": [
    "PT_job_ind = []\n",
    "for i in df['Part-Time Job']:\n",
    "    if i == 'No':\n",
    "        PT_job_ind.append(0.0)\n",
    "    else:\n",
    "        PT_job_ind.append(1.0)\n",
    "\n",
    "df['Part-Time Job Indicator'] = PT_job_ind\n",
    "beta_1 = np.sum((PT_job_ind - np.mean(PT_job_ind)) * (college_GPA - np.mean(college_GPA))) / np.sum((PT_job_ind - np.mean(PT_job_ind))**2)\n",
    "beta_0 = np.mean(college_GPA) - beta_1 * np.mean(PT_job_ind)\n",
    "\n",
    "print(beta_1)\n",
    "print(beta_0)"
   ]
  },
  {
   "cell_type": "markdown",
   "metadata": {},
   "source": [
    "To answer question 2, I am implementing a linear regression model with the formula Yi = B0 + B1Xi + E, where B0 (beta 0) represents the mean of the first group (no part time job), B1 (beta 1) represents the difference in mean from the first group and second group (part time job). E represents the error term.  Here I have broken the data into groups using an indicator for the no part time job group as 0 and an indicator for the part time job group as 1. I then calculated the beta1 and beta0 values, which are the calculated mean difference and the calculated mean of the no part time job group, respectively.\n",
    "\n",
    "Hypothesis Test for Linear Regression:\n",
    "Null Hypothesis: B1 = 0\n",
    "Alternative Hypothesis: B1 != 0"
   ]
  },
  {
   "cell_type": "code",
   "execution_count": 47,
   "metadata": {},
   "outputs": [],
   "source": [
    "predicted_GPA = float(beta_0) + float(beta_1) * df['Part-Time Job Indicator']\n",
    "df['error'] = college_GPA - predicted_GPA"
   ]
  },
  {
   "cell_type": "code",
   "execution_count": 49,
   "metadata": {},
   "outputs": [
    {
     "data": {
      "image/png": "[encoded data removed]",
      "text/plain": [
       "<Figure size 576x432 with 1 Axes>"
      ]
     },
     "metadata": {
      "needs_background": "light"
     },
     "output_type": "display_data"
    },
    {
     "data": {
      "image/png": "[encoded data removed]",
      "text/plain": [
       "<Figure size 432x288 with 1 Axes>"
      ]
     },
     "metadata": {
      "needs_background": "light"
     },
     "output_type": "display_data"
    },
    {
     "data": {
      "text/plain": [
       "<Figure size 432x288 with 0 Axes>"
      ]
     },
     "metadata": {},
     "output_type": "display_data"
    }
   ],
   "source": [
    "# 1. Histogram\n",
    "plt.figure(figsize=(8, 6))\n",
    "sns.distplot(df['error'], bins = 20)\n",
    "plt.title(\"Histogram of College GPA Error\")\n",
    "plt.xlabel(\"Error Term\")\n",
    "plt.ylabel(\"Frequency\")\n",
    "plt.show()\n",
    "plt.savefig(\"GPA_Error_Histogram.png\")\n",
    "\n",
    "# 2. Boxplot\n",
    "sns.boxplot(df['error'], color='lightgreen')\n",
    "plt.title(\"Boxplot of College GPA Error\")\n",
    "plt.xlabel(\"Error Term\")\n",
    "plt.show()\n",
    "plt.savefig(\"GPA_Error_Boxplot.png\")"
   ]
  },
  {
   "cell_type": "markdown",
   "metadata": {},
   "source": [
    "The histogram and boxplot of the error term, calculated using the beta1 and beta0 values, show a mostly normal distribution with a mean of 0. The histogram shows a slight variation from a normal distribution in one or two spots, while the box plot also shows 2 outliers in the data, however these things are not significant enough to declare the distribution of the error not normal. What these two plots essentially prove is that the assumptions of indepence of the two groups, as well as a normal distribution of the error term with a mean of 0 are satisfied, so the linear regression is an acceptable model to use for this comparison of variables."
   ]
  },
  {
   "cell_type": "code",
   "execution_count": 50,
   "metadata": {},
   "outputs": [
    {
     "data": {
      "text/plain": [
       "-1.444774693988856"
      ]
     },
     "execution_count": 50,
     "metadata": {},
     "output_type": "execute_result"
    }
   ],
   "source": [
    "degfr = len(df) - 2\n",
    "t = beta_1 / np.sqrt(np.sum((df['error'])**2) / (degfr * np.sum((df['Part-Time Job Indicator'] - np.mean(df['Part-Time Job Indicator']))**2)))\n",
    "t"
   ]
  },
  {
   "cell_type": "code",
   "execution_count": 51,
   "metadata": {},
   "outputs": [
    {
     "data": {
      "text/plain": [
       "0.14873415359021291"
      ]
     },
     "execution_count": 51,
     "metadata": {},
     "output_type": "execute_result"
    }
   ],
   "source": [
    "import scipy.stats as stats\n",
    "p = 2 * (1 - stats.t.cdf(abs(t), degfr))\n",
    "p"
   ]
  },
  {
   "cell_type": "markdown",
   "metadata": {},
   "source": [
    "Based on the calculated p-value of 0.15, when comparing to our alpha of 0.05 (commonly used alpha value), we fail to reject the null hypothesis. In the context of my question, this means that there is insignificant evidence to show that B1 (the difference between the mean of no part time job group and part time job group) is not equal to 0. This shows that the linear regression model proved no significant difference in the mean of college GPA between a group of students with a part time job and a group of students with no part time job"
   ]
  },
  {
   "cell_type": "markdown",
   "metadata": {},
   "source": [
    "# Question 3: Is there a certain classification of major that consistently correlates to higher GPA, or is every major classification generally the same?"
   ]
  },
  {
   "cell_type": "code",
   "execution_count": 52,
   "metadata": {},
   "outputs": [
    {
     "data": {
      "text/plain": [
       "5"
      ]
     },
     "execution_count": 52,
     "metadata": {},
     "output_type": "execute_result"
    }
   ],
   "source": [
    "unique_majors = df['Major'].unique().size\n",
    "unique_majors"
   ]
  },
  {
   "cell_type": "markdown",
   "metadata": {},
   "source": [
    "There are 5 classifications of majors in the dataset, so we can determine if the variances of each classification of major are the same or different using an ANOVA model and table.\n",
    "\n",
    "Null Hypothesis: alpha1 = alpha2 = alpha3 = alpha4 = alpha5\n",
    "\n",
    "Alternative Hypothesis: at least one of the alphas is not equal"
   ]
  },
  {
   "cell_type": "code",
   "execution_count": 53,
   "metadata": {},
   "outputs": [],
   "source": [
    "science = df[df['Major'] == 'Science']\n",
    "engineering = df[df['Major'] == 'Engineering']\n",
    "arts = df[df['Major'] == 'Arts']\n",
    "business = df[df['Major'] == 'Business']\n",
    "undeclared = df[df['Major'] == 'Undeclared']\n",
    "#Note that the undeclared group in the dataset does not explicitly correlate to a student having no major,\n",
    "# rather the students major was not declared in the dataset.\n"
   ]
  },
  {
   "cell_type": "code",
   "execution_count": 54,
   "metadata": {},
   "outputs": [
    {
     "data": {
      "text/plain": [
       "2.5016972165648337"
      ]
     },
     "execution_count": 54,
     "metadata": {},
     "output_type": "execute_result"
    }
   ],
   "source": [
    "grand_mean = np.mean(df['College GPA'])\n",
    "grand_mean"
   ]
  },
  {
   "cell_type": "code",
   "execution_count": 55,
   "metadata": {},
   "outputs": [
    {
     "name": "stdout",
     "output_type": "stream",
     "text": [
      "Mean GPA of Science Majors:  2.538292682926829\n",
      "Mean GPA of Engineering Majors:  2.531929824561404\n",
      "Mean GPA of Arts Majors:  2.433342618384401\n",
      "Mean GPA of Business Majors:  2.5015041782729805\n",
      "Mean GPA of Undeclared Majors:  2.5190909090909086\n"
     ]
    }
   ],
   "source": [
    "sciMean = np.mean(science['College GPA'])\n",
    "engMean = np.mean(engineering['College GPA'])\n",
    "artMean = np.mean(arts['College GPA'])\n",
    "busMean = np.mean(business['College GPA'])\n",
    "undMean = np.mean(undeclared['College GPA'])\n",
    "print('Mean GPA of Science Majors: ', sciMean)\n",
    "print('Mean GPA of Engineering Majors: ', engMean)\n",
    "print('Mean GPA of Arts Majors: ', artMean)\n",
    "print('Mean GPA of Business Majors: ', busMean)\n",
    "print('Mean GPA of Undeclared Majors: ', undMean)"
   ]
  },
  {
   "cell_type": "markdown",
   "metadata": {},
   "source": [
    "In the ANOVA regression model, an important calculation in order to conduct the proper regression tests is the alpha value of each group. This value is the difference in the mean of the specific group and the grand mean, which is the mean of the population as a whole. This value is helpful in calculating the group sum of squares, which in turn will help calculate the test statistic for the ANOVA test."
   ]
  },
  {
   "cell_type": "code",
   "execution_count": 56,
   "metadata": {},
   "outputs": [
    {
     "name": "stdout",
     "output_type": "stream",
     "text": [
      "Science Major alpha value:  0.0365954663619954\n",
      "Engineering Major alpha value:  0.030232607996570238\n",
      "Art Major alpha value:  -0.06835459818043255\n",
      "Business Major alpha value:  -0.00019303829185313148\n",
      "Undefined Major alpha value:  0.017393692526074922\n"
     ]
    }
   ],
   "source": [
    "alpha1 = sciMean - grand_mean\n",
    "alpha2 = engMean - grand_mean\n",
    "alpha3 = artMean - grand_mean\n",
    "alpha4 = busMean - grand_mean\n",
    "alpha5 = undMean - grand_mean\n",
    "print(\"Science Major alpha value: \", alpha1)\n",
    "print(\"Engineering Major alpha value: \", alpha2)\n",
    "print(\"Art Major alpha value: \", alpha3)\n",
    "print(\"Business Major alpha value: \", alpha4)\n",
    "print(\"Undefined Major alpha value: \", alpha5)"
   ]
  },
  {
   "cell_type": "markdown",
   "metadata": {},
   "source": [
    "In order to create the ANOVA table and calculate the test statistic and p value for the ANOVA model, we first need to calculate some values that will help in determining the test statistic:\n",
    "\n",
    "Sum of Squares Group (SSG) = sum(group_i * alpha_i ^2) for i = 1 to n\n",
    "\n",
    "Sum of Squares Error (SSE) = sum((n_i - 1) * variance_i) for i = 1 to n\n",
    "\n",
    "Sum of Squares Total (SST) = SSG + SSE\n",
    "\n",
    "Mean of Squares Group (MSG) = SSG / df for df = # groups - 1\n",
    "\n",
    "Mean of Squares Error (MSE) = SSE / df for df = total # data entries - # groups\n",
    "\n",
    "F statistic = MSG / MSE"
   ]
  },
  {
   "cell_type": "code",
   "execution_count": 57,
   "metadata": {},
   "outputs": [
    {
     "name": "stdout",
     "output_type": "stream",
     "text": [
      "  Source    df          SS        MS    F Stat   P Value\n",
      "0  Group     4    2.497466  0.624367  3.107828  0.014691\n",
      "1  Error  1468  294.923068  0.624367       NaN       NaN\n",
      "2  Total  1472  297.420534       NaN       NaN       NaN\n"
     ]
    }
   ],
   "source": [
    "sum_squares_group = (len(science)*alpha1**2) + (len(engineering)*alpha2**2) + (len(arts)*alpha3**2) + (len(business)*alpha4**2) + (len(undeclared)*alpha5**2)\n",
    "sciVar = np.var(science['College GPA'])\n",
    "engVar = np.var(engineering['College GPA'])\n",
    "artVar = np.var(arts['College GPA'])\n",
    "busVar = np.var(business['College GPA'])\n",
    "undVar = np.var(undeclared['College GPA'])\n",
    "sum_squares_error = ((len(science)-1)*sciVar) + ((len(engineering)-1)*engVar) + ((len(arts)-1)*artVar) + ((len(business)-1)*busVar) + ((len(undeclared)-1)*undVar)\n",
    "sum_squares_total = sum_squares_group + sum_squares_error\n",
    "mean_squares_group = sum_squares_group / 4\n",
    "mean_squares_error = sum_squares_error / (len(df) - 5)\n",
    "f = mean_squares_group / mean_squares_error\n",
    "pval = 1 - stats.f.cdf(f, 4, (len(df) - 5))\n",
    "\n",
    "anova = pd.DataFrame({'Source' : ['Group', 'Error', 'Total'],\n",
    "                     'df' : [4, len(df) - 5, len(df) - 1],\n",
    "                     'SS' : [sum_squares_group, sum_squares_error, sum_squares_total],\n",
    "                     'MS' : [mean_squares_group, mean_squares_group, None],\n",
    "                     'F Stat' : [f, None, None],\n",
    "                     'P Value' : [pval, None, None]})\n",
    "\n",
    "print(anova)"
   ]
  },
  {
   "cell_type": "markdown",
   "metadata": {},
   "source": [
    "From the ANOVA table created above, the p value of .014 is less than the alpha value of .05, so we can reject the null hypothesis and conclude that at least one of the alpha values is not equal to the others. In the context of the question, this means that every major classification does not generally correlate to the same GPA. However, in looking back at the mean GPA for every major classification, there is not definitive major that shows a higher GPA, but the Arts major shows a significantly lower mean GPA."
   ]
  },
  {
   "cell_type": "markdown",
   "metadata": {},
   "source": [
    "# Question 4: Which factors (Study hours, attendance, sleep, extracurriculars) are effective in determining a model for predicting college GPA?"
   ]
  },
  {
   "cell_type": "markdown",
   "metadata": {},
   "source": [
    "For this question we are going to use a machine learning regression model to help us get an answer."
   ]
  },
  {
   "cell_type": "code",
   "execution_count": 58,
   "metadata": {},
   "outputs": [
    {
     "name": "stdout",
     "output_type": "stream",
     "text": [
      "Mean Squared Error: 0.1062667442650011\n",
      "R-squared: 0.4268707641131737\n",
      "Intercept: 1.2702971986550116\n",
      "Coefficients: [ 0.          0.02454978  0.01011616  0.00273693 -0.0039897 ]\n"
     ]
    }
   ],
   "source": [
    "from sklearn.model_selection import train_test_split\n",
    "from sklearn.linear_model import LinearRegression\n",
    "from sklearn.metrics import mean_squared_error, r2_score\n",
    "\n",
    "X = df[['Study Hours per Week', 'Attendance Rate', 'Extracurricular Activities', 'Sleep Hours per Night']]\n",
    "y = df['College GPA']\n",
    "\n",
    "X = np.c_[np.ones(X.shape[0]), X]\n",
    "X_train, X_test, y_train, y_test = train_test_split(X, y, test_size = 0.2, random_state = 42)\n",
    "model = LinearRegression()\n",
    "model.fit(X_train, y_train)\n",
    "y_pred = model.predict(X_test)\n",
    "\n",
    "mse = mean_squared_error(y_test, y_pred)\n",
    "r2 = r2_score(y_test, y_pred)\n",
    "\n",
    "print(f\"Mean Squared Error: {mse}\")\n",
    "print(f\"R-squared: {r2}\")\n",
    "print(f\"Intercept: {model.intercept_}\")\n",
    "print(f\"Coefficients: {model.coef_}\")"
   ]
  },
  {
   "cell_type": "markdown",
   "metadata": {},
   "source": [
    "The R squared value obtained for the model is 0.4269, meaning the model is not a great predictor in determining GPA. So I am now going to obtain the p values of each of the explanatory variables and try to get rid of any variables that are insignificant."
   ]
  },
  {
   "cell_type": "code",
   "execution_count": 59,
   "metadata": {},
   "outputs": [
    {
     "name": "stdout",
     "output_type": "stream",
     "text": [
      "P-values: [1.0, 0.0, 0.0, 0.6836791048188049, 0.46404810162607935]\n"
     ]
    }
   ],
   "source": [
    "residuals = y_test - y_pred\n",
    "residual_variance = np.var(residuals, ddof=2)\n",
    "X_transpose = X_train.T\n",
    "se = np.sqrt(np.diagonal(residual_variance * np.linalg.inv(np.dot(X_transpose, X_train))))\n",
    "t_stats = model.coef_ / se\n",
    "p_values = [2 * (1 - stats.t.cdf(np.abs(t), df=len(X_train) - X.shape[1])) for t in t_stats]\n",
    "print(f\"P-values: {p_values}\")"
   ]
  },
  {
   "cell_type": "markdown",
   "metadata": {},
   "source": [
    "In looking at the p values from each of the predicting variables included in the model, the last two are well over the alpha value of 0.05. So I am going to remove these two variables, being Extracurricular Activities and Sleep Hours per Night, and create a new model."
   ]
  },
  {
   "cell_type": "code",
   "execution_count": 60,
   "metadata": {},
   "outputs": [
    {
     "name": "stdout",
     "output_type": "stream",
     "text": [
      "Mean Squared Error: 0.10594925458500387\n",
      "R-squared: 0.428583083606514\n",
      "Intercept: 1.249284151377752\n",
      "Coefficients: [0.         0.0245032  0.01010965]\n"
     ]
    }
   ],
   "source": [
    "X2 = df[['Study Hours per Week', 'Attendance Rate']]\n",
    "y2 = df['College GPA']\n",
    "\n",
    "X2 = np.c_[np.ones(X2.shape[0]), X2]\n",
    "X2_train, X2_test, y2_train, y2_test = train_test_split(X2, y2, test_size = 0.2, random_state = 42)\n",
    "model2 = LinearRegression()\n",
    "model2.fit(X2_train, y2_train)\n",
    "y2_pred = model2.predict(X2_test)\n",
    "\n",
    "mse2 = mean_squared_error(y2_test, y2_pred)\n",
    "r2_2 = r2_score(y2_test, y2_pred)\n",
    "\n",
    "print(f\"Mean Squared Error: {mse2}\")\n",
    "print(f\"R-squared: {r2_2}\")\n",
    "print(f\"Intercept: {model2.intercept_}\")\n",
    "print(f\"Coefficients: {model2.coef_}\")"
   ]
  },
  {
   "cell_type": "markdown",
   "metadata": {},
   "source": [
    "The new R squared value of .4286 is only slightly higher than the previous R Squared value. With this we can conclude that Study Hours and Attendance Rate are slightly better predicting variables in GPA than are Extracurricular Activities and Sleep Hours, but overall these predictor variables do not give a very accurate prediction for a model determining College GPA."
   ]
  },
  {
   "cell_type": "code",
   "execution_count": null,
   "metadata": {},
   "outputs": [],
   "source": []
  }
 ],
 "metadata": {
  "kernelspec": {
   "display_name": "Python 3",
   "language": "python",
   "name": "python3"
  },
  "language_info": {
   "codemirror_mode": {
    "name": "ipython",
    "version": 3
   },
   "file_extension": ".py",
   "mimetype": "text/x-python",
   "name": "python",
   "nbconvert_exporter": "python",
   "pygments_lexer": "ipython3",
   "version": "3.6.10"
  }
 },
 "nbformat": 4,
 "nbformat_minor": 2
}
